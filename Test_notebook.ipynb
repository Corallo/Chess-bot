{
 "cells": [
  {
   "cell_type": "code",
   "execution_count": 1,
   "metadata": {},
   "outputs": [],
   "source": [
    "import sys\n",
    "sys.dont_write_bytecode = True"
   ]
  },
  {
   "cell_type": "code",
   "execution_count": 2,
   "metadata": {},
   "outputs": [],
   "source": [
    "from web_scrapper import ChessWebScrapper\n",
    "from game_handler import ChessGameHandler\n",
    "import time"
   ]
  },
  {
   "cell_type": "code",
   "execution_count": 3,
   "metadata": {},
   "outputs": [
    {
     "name": "stdout",
     "output_type": "stream",
     "text": [
      "Testing WebScrapper class\n"
     ]
    }
   ],
   "source": [
    "print(\"Testing WebScrapper class\")\n",
    "ws = ChessWebScrapper()\n",
    "ws.open_page()\n",
    "time.sleep(3)\n",
    "ws.login()"
   ]
  },
  {
   "cell_type": "code",
   "execution_count": null,
   "metadata": {},
   "outputs": [],
   "source": [
    "while True:\n",
    "    move_lists=ws.get_current_position()\n",
    "    game = ChessGameHandler()\n",
    "    for move_list in move_lists:\n",
    "        for move in move_list:\n",
    "            game.make_move(move)\n",
    "    \n",
    "    print(game.get_board())\n",
    "\n",
    "    time.sleep(5)"
   ]
  }
 ],
 "metadata": {
  "kernelspec": {
   "display_name": "Python 3",
   "language": "python",
   "name": "python3"
  },
  "language_info": {
   "codemirror_mode": {
    "name": "ipython",
    "version": 3
   },
   "file_extension": ".py",
   "mimetype": "text/x-python",
   "name": "python",
   "nbconvert_exporter": "python",
   "pygments_lexer": "ipython3",
   "version": "3.11.1"
  },
  "orig_nbformat": 4,
  "vscode": {
   "interpreter": {
    "hash": "9ec6b8c25da5ecb150af55b46e0e070f4eedaa0a04d4e20f07e0fbc9d7f53f7d"
   }
  }
 },
 "nbformat": 4,
 "nbformat_minor": 2
}
