{
 "cells": [
  {
   "cell_type": "code",
   "execution_count": 1,
   "metadata": {},
   "outputs": [
    {
     "name": "stdout",
     "output_type": "stream",
     "text": [
      "Testing WebScrapper class\n"
     ]
    }
   ],
   "source": [
    "import sys\n",
    "sys.dont_write_bytecode = True\n",
    "from web_scrapper import ChessWebHandler\n",
    "import time\n",
    "print(\"Testing WebScrapper class\")\n",
    "wh = ChessWebHandler()\n",
    "wh.open_page()\n",
    "time.sleep(3)\n",
    "wh.login()\n"
   ]
  },
  {
   "cell_type": "code",
   "execution_count": 3,
   "metadata": {},
   "outputs": [
    {
     "name": "stdout",
     "output_type": "stream",
     "text": [
      "white\n",
      "\n",
      "Time taken to get best move:  0.21105551719665527\n",
      "Moving:  b1c3 Evaluation:  50\n",
      "Nc3 d5\n",
      "Time taken to get best move:  2.878117084503174\n",
      "Moving:  d2d4 Evaluation:  50\n",
      "Nc3 d5 d4 Nf6\n",
      "Time taken to get best move:  5.15430212020874\n",
      "Moving:  c1g5 Evaluation:  65\n",
      "Nc3 d5 d4 Nf6\n",
      "Time taken to get best move:  5.219454526901245\n",
      "Moving:  c1g5 Evaluation:  65\n",
      "Nc3 d5 d4 Nf6 Bg5 c6\n",
      "Time taken to get best move:  5.61394739151001\n",
      "Moving:  g1f3 Evaluation:  75\n",
      "Nc3 d5 d4 Nf6 Bg5 c6 Nf3 Bf5\n",
      "Time taken to get best move:  7.006904602050781\n",
      "Moving:  f3h4 Evaluation:  135\n",
      "Nc3 d5 d4 Nf6 Bg5 c6 Nf3 Bf5 Nh4 g6\n",
      "Time taken to get best move:  9.26913833618164\n",
      "Moving:  h4f5 Evaluation:  195\n",
      "Nc3 d5 d4 Nf6 Bg5 c6 Nf3 Bf5 Nh4 g6 Nxf5 gxf5\n",
      "Time taken to get best move:  4.057687044143677\n",
      "Moving:  d1d3 Evaluation:  120\n",
      "Nc3 d5 d4 Nf6 Bg5 c6 Nf3 Bf5 Nh4 g6 Nxf5 gxf5\n",
      "Time taken to get best move:  4.059692859649658\n",
      "Moving:  d1d3 Evaluation:  120\n",
      "Nc3 d5 d4 Nf6 Bg5 c6 Nf3 Bf5 Nh4 g6 Nxf5 gxf5 Qd3 e6\n",
      "Time taken to get best move:  6.691860198974609\n",
      "Moving:  f2f4 Evaluation:  145\n",
      "Nc3 d5 d4 Nf6 Bg5 c6 Nf3 Bf5 Nh4 g6 Nxf5 gxf5 Qd3 e6 f4 Be7\n",
      "Time taken to get best move:  5.906429290771484\n",
      "Moving:  a1b1 Evaluation:  140\n",
      "Nc3 d5 d4 Nf6 Bg5 c6 Nf3 Bf5 Nh4 g6 Nxf5 gxf5 Qd3 e6 f4 Be7 Rb1 O-O\n",
      "Time taken to get best move:  5.044474363327026\n",
      "Moving:  a2a4 Evaluation:  105\n",
      "Nc3 d5 d4 Nf6 Bg5 c6 Nf3 Bf5 Nh4 g6 Nxf5 gxf5 Qd3 e6 f4 Be7 Rb1 O-O a4 Ng4\n",
      "Time taken to get best move:  5.385159492492676\n",
      "Moving:  g5e7 Evaluation:  45\n",
      "Nc3 d5 d4 Nf6 Bg5 c6 Nf3 Bf5 Nh4 g6 Nxf5 gxf5 Qd3 e6 f4 Be7 Rb1 O-O a4 Ng4 Bxe7 Qxe7\n",
      "Time taken to get best move:  6.27927565574646\n",
      "Moving:  d3g3 Evaluation:  45\n",
      "Nc3 d5 d4 Nf6 Bg5 c6 Nf3 Bf5 Nh4 g6 Nxf5 gxf5 Qd3 e6 f4 Be7 Rb1 O-O a4 Ng4 Bxe7 Qxe7 Qg3 Qb4\n",
      "Time taken to get best move:  1.774439811706543\n",
      "Moving:  h2h3 Evaluation:  155\n",
      "Nc3 d5 d4 Nf6 Bg5 c6 Nf3 Bf5 Nh4 g6 Nxf5 gxf5 Qd3 e6 f4 Be7 Rb1 O-O a4 Ng4 Bxe7 Qxe7 Qg3 Qb4 h3 Qxd4\n",
      "Time taken to get best move:  7.335845947265625\n",
      "Moving:  h3g4 Evaluation:  215\n",
      "Nc3 d5 d4 Nf6 Bg5 c6 Nf3 Bf5 Nh4 g6 Nxf5 gxf5 Qd3 e6 f4 Be7 Rb1 O-O a4 Ng4 Bxe7 Qxe7 Qg3 Qb4 h3 Qxd4 hxg4 fxg4\n",
      "Time taken to get best move:  4.8290417194366455\n",
      "Moving:  g3g4 Evaluation:  235\n",
      "Nc3 d5 d4 Nf6 Bg5 c6 Nf3 Bf5 Nh4 g6 Nxf5 gxf5 Qd3 e6 f4 Be7 Rb1 O-O a4 Ng4 Bxe7 Qxe7 Qg3 Qb4 h3 Qxd4 hxg4 fxg4 Qxg4+ Kh8\n",
      "Time taken to get best move:  7.203534841537476\n",
      "Moving:  b1d1 Evaluation:  215\n",
      "Nc3 d5 d4 Nf6 Bg5 c6 Nf3 Bf5 Nh4 g6 Nxf5 gxf5 Qd3 e6 f4 Be7 Rb1 O-O a4 Ng4 Bxe7 Qxe7 Qg3 Qb4 h3 Qxd4 hxg4 fxg4 Qxg4+ Kh8 Rd1 Qg7\n",
      "Time taken to get best move:  4.813766241073608\n",
      "Moving:  g4h4 Evaluation:  265\n",
      "Nc3 d5 d4 Nf6 Bg5 c6 Nf3 Bf5 Nh4 g6 Nxf5 gxf5 Qd3 e6 f4 Be7 Rb1 O-O a4 Ng4 Bxe7 Qxe7 Qg3 Qb4 h3 Qxd4 hxg4 fxg4 Qxg4+ Kh8 Rd1 Qg7 Qh4 Nd7\n",
      "Time taken to get best move:  7.480686187744141\n",
      "Moving:  e2e4 Evaluation:  280\n",
      "Nc3 d5 d4 Nf6 Bg5 c6 Nf3 Bf5 Nh4 g6 Nxf5 gxf5 Qd3 e6 f4 Be7 Rb1 O-O a4 Ng4 Bxe7 Qxe7 Qg3 Qb4 h3 Qxd4 hxg4 fxg4 Qxg4+ Kh8 Rd1 Qg7 Qh4 Nd7 e4 Rfd8\n",
      "Time taken to get best move:  14.213417291641235\n",
      "Moving:  e4d5 Evaluation:  280\n",
      "Nc3 d5 d4 Nf6 Bg5 c6 Nf3 Bf5 Nh4 g6 Nxf5 gxf5 Qd3 e6 f4 Be7 Rb1 O-O a4 Ng4 Bxe7 Qxe7 Qg3 Qb4 h3 Qxd4 hxg4 fxg4 Qxg4+ Kh8 Rd1 Qg7 Qh4 Nd7 e4 Rfd8 exd5 exd5\n",
      "Time taken to get best move:  7.919848918914795\n",
      "Moving:  e1f2 Evaluation:  255\n",
      "Nc3 d5 d4 Nf6 Bg5 c6 Nf3 Bf5 Nh4 g6 Nxf5 gxf5 Qd3 e6 f4 Be7 Rb1 O-O a4 Ng4 Bxe7 Qxe7 Qg3 Qb4 h3 Qxd4 hxg4 fxg4 Qxg4+ Kh8 Rd1 Qg7 Qh4 Nd7 e4 Rfd8 exd5 exd5 Kf2 Nf6\n",
      "Time taken to get best move:  13.44733476638794\n",
      "Moving:  f2g1 Evaluation:  215\n",
      "Nc3 d5 d4 Nf6 Bg5 c6 Nf3 Bf5 Nh4 g6 Nxf5 gxf5 Qd3 e6 f4 Be7 Rb1 O-O a4 Ng4 Bxe7 Qxe7 Qg3 Qb4 h3 Qxd4 hxg4 fxg4 Qxg4+ Kh8 Rd1 Qg7 Qh4 Nd7 e4 Rfd8 exd5 exd5 Kf2 Nf6 Kg1 Ng4\n",
      "Time taken to get best move:  11.99304747581482\n",
      "Moving:  f1e2 Evaluation:  325\n",
      "Nc3 d5 d4 Nf6 Bg5 c6 Nf3 Bf5 Nh4 g6 Nxf5 gxf5 Qd3 e6 f4 Be7 Rb1 O-O a4 Ng4 Bxe7 Qxe7 Qg3 Qb4 h3 Qxd4 hxg4 fxg4 Qxg4+ Kh8 Rd1 Qg7 Qh4 Nd7 e4 Rfd8 exd5 exd5 Kf2 Nf6 Kg1 Ng4 Be2 Ne3\n",
      "Time taken to get best move:  12.55285096168518\n",
      "Moving:  d1d2 Evaluation:  235\n"
     ]
    },
    {
     "ename": "StaleElementReferenceException",
     "evalue": "Message: stale element reference: stale element not found\n  (Session info: chrome=120.0.6099.130); For documentation on this error, please visit: https://www.selenium.dev/documentation/webdriver/troubleshooting/errors#stale-element-reference-exception\nStacktrace:\n\tGetHandleVerifier [0x00007FF761DB2142+3514994]\n\t(No symbol) [0x00007FF7619D0CE2]\n\t(No symbol) [0x00007FF7618776AA]\n\t(No symbol) [0x00007FF76187CFC0]\n\t(No symbol) [0x00007FF76187F38F]\n\t(No symbol) [0x00007FF76187F480]\n\t(No symbol) [0x00007FF7618BBB0E]\n\t(No symbol) [0x00007FF7618E5FEA]\n\t(No symbol) [0x00007FF7618B63B6]\n\t(No symbol) [0x00007FF7618E6490]\n\t(No symbol) [0x00007FF7619028F6]\n\t(No symbol) [0x00007FF7618E5D93]\n\t(No symbol) [0x00007FF7618B4BDC]\n\t(No symbol) [0x00007FF7618B5C64]\n\tGetHandleVerifier [0x00007FF761DDE16B+3695259]\n\tGetHandleVerifier [0x00007FF761E36737+4057191]\n\tGetHandleVerifier [0x00007FF761E2E4E3+4023827]\n\tGetHandleVerifier [0x00007FF761B004F9+689705]\n\t(No symbol) [0x00007FF7619DC048]\n\t(No symbol) [0x00007FF7619D8044]\n\t(No symbol) [0x00007FF7619D81C9]\n\t(No symbol) [0x00007FF7619C88C4]\n\tBaseThreadInitThunk [0x00007FF9B0D67344+20]\n\tRtlUserThreadStart [0x00007FF9B13026B1+33]\n",
     "output_type": "error",
     "traceback": [
      "\u001b[1;31m---------------------------------------------------------------------------\u001b[0m",
      "\u001b[1;31mStaleElementReferenceException\u001b[0m            Traceback (most recent call last)",
      "Cell \u001b[1;32mIn[3], line 9\u001b[0m\n\u001b[0;32m      7\u001b[0m \u001b[39mprint\u001b[39m(color)\n\u001b[0;32m      8\u001b[0m \u001b[39mwhile\u001b[39;00m \u001b[39mTrue\u001b[39;00m:\n\u001b[1;32m----> 9\u001b[0m     move_lists\u001b[39m=\u001b[39mwh\u001b[39m.\u001b[39;49mget_current_position()\n\u001b[0;32m     10\u001b[0m     move_str \u001b[39m=\u001b[39m \u001b[39m\"\u001b[39m\u001b[39m \u001b[39m\u001b[39m\"\u001b[39m\u001b[39m.\u001b[39mjoin(move_lists)\n\u001b[0;32m     11\u001b[0m     game\u001b[39m.\u001b[39mupdate_board(move_str)\n",
      "File \u001b[1;32mc:\\Users\\delli\\Documents\\GitHub\\Chess-bot\\web_scrapper.py:34\u001b[0m, in \u001b[0;36mChessWebHandler.get_current_position\u001b[1;34m(self)\u001b[0m\n\u001b[0;32m     31\u001b[0m moves \u001b[39m=\u001b[39m \u001b[39mself\u001b[39m\u001b[39m.\u001b[39mdriver\u001b[39m.\u001b[39mfind_elements(By\u001b[39m.\u001b[39mCLASS_NAME, \u001b[39m\"\u001b[39m\u001b[39mmove\u001b[39m\u001b[39m\"\u001b[39m)\n\u001b[0;32m     33\u001b[0m \u001b[39m#Remove the first element, which is move number\u001b[39;00m\n\u001b[1;32m---> 34\u001b[0m moves \u001b[39m=\u001b[39m \u001b[39mlist\u001b[39m(\u001b[39mmap\u001b[39m(\u001b[39mlambda\u001b[39;00m move: move\u001b[39m.\u001b[39mtext\u001b[39m.\u001b[39msplit(\u001b[39m\"\u001b[39m\u001b[39m\\n\u001b[39;00m\u001b[39m\"\u001b[39m)[\u001b[39m1\u001b[39m:], moves))\n\u001b[0;32m     35\u001b[0m \u001b[39m#Convert list of lists into list\u001b[39;00m\n\u001b[0;32m     36\u001b[0m moves \u001b[39m=\u001b[39m [item \u001b[39mfor\u001b[39;00m sublist \u001b[39min\u001b[39;00m moves \u001b[39mfor\u001b[39;00m item \u001b[39min\u001b[39;00m sublist]\n",
      "File \u001b[1;32mc:\\Users\\delli\\Documents\\GitHub\\Chess-bot\\web_scrapper.py:34\u001b[0m, in \u001b[0;36mChessWebHandler.get_current_position.<locals>.<lambda>\u001b[1;34m(move)\u001b[0m\n\u001b[0;32m     31\u001b[0m moves \u001b[39m=\u001b[39m \u001b[39mself\u001b[39m\u001b[39m.\u001b[39mdriver\u001b[39m.\u001b[39mfind_elements(By\u001b[39m.\u001b[39mCLASS_NAME, \u001b[39m\"\u001b[39m\u001b[39mmove\u001b[39m\u001b[39m\"\u001b[39m)\n\u001b[0;32m     33\u001b[0m \u001b[39m#Remove the first element, which is move number\u001b[39;00m\n\u001b[1;32m---> 34\u001b[0m moves \u001b[39m=\u001b[39m \u001b[39mlist\u001b[39m(\u001b[39mmap\u001b[39m(\u001b[39mlambda\u001b[39;00m move: move\u001b[39m.\u001b[39;49mtext\u001b[39m.\u001b[39msplit(\u001b[39m\"\u001b[39m\u001b[39m\\n\u001b[39;00m\u001b[39m\"\u001b[39m)[\u001b[39m1\u001b[39m:], moves))\n\u001b[0;32m     35\u001b[0m \u001b[39m#Convert list of lists into list\u001b[39;00m\n\u001b[0;32m     36\u001b[0m moves \u001b[39m=\u001b[39m [item \u001b[39mfor\u001b[39;00m sublist \u001b[39min\u001b[39;00m moves \u001b[39mfor\u001b[39;00m item \u001b[39min\u001b[39;00m sublist]\n",
      "File \u001b[1;32mc:\\Users\\delli\\AppData\\Local\\Programs\\Python\\Python311\\Lib\\site-packages\\selenium\\webdriver\\remote\\webelement.py:90\u001b[0m, in \u001b[0;36mWebElement.text\u001b[1;34m(self)\u001b[0m\n\u001b[0;32m     87\u001b[0m \u001b[39m@property\u001b[39m\n\u001b[0;32m     88\u001b[0m \u001b[39mdef\u001b[39;00m \u001b[39mtext\u001b[39m(\u001b[39mself\u001b[39m) \u001b[39m-\u001b[39m\u001b[39m>\u001b[39m \u001b[39mstr\u001b[39m:\n\u001b[0;32m     89\u001b[0m \u001b[39m    \u001b[39m\u001b[39m\"\"\"The text of the element.\"\"\"\u001b[39;00m\n\u001b[1;32m---> 90\u001b[0m     \u001b[39mreturn\u001b[39;00m \u001b[39mself\u001b[39;49m\u001b[39m.\u001b[39;49m_execute(Command\u001b[39m.\u001b[39;49mGET_ELEMENT_TEXT)[\u001b[39m\"\u001b[39m\u001b[39mvalue\u001b[39m\u001b[39m\"\u001b[39m]\n",
      "File \u001b[1;32mc:\\Users\\delli\\AppData\\Local\\Programs\\Python\\Python311\\Lib\\site-packages\\selenium\\webdriver\\remote\\webelement.py:395\u001b[0m, in \u001b[0;36mWebElement._execute\u001b[1;34m(self, command, params)\u001b[0m\n\u001b[0;32m    393\u001b[0m     params \u001b[39m=\u001b[39m {}\n\u001b[0;32m    394\u001b[0m params[\u001b[39m\"\u001b[39m\u001b[39mid\u001b[39m\u001b[39m\"\u001b[39m] \u001b[39m=\u001b[39m \u001b[39mself\u001b[39m\u001b[39m.\u001b[39m_id\n\u001b[1;32m--> 395\u001b[0m \u001b[39mreturn\u001b[39;00m \u001b[39mself\u001b[39;49m\u001b[39m.\u001b[39;49m_parent\u001b[39m.\u001b[39;49mexecute(command, params)\n",
      "File \u001b[1;32mc:\\Users\\delli\\AppData\\Local\\Programs\\Python\\Python311\\Lib\\site-packages\\selenium\\webdriver\\remote\\webdriver.py:348\u001b[0m, in \u001b[0;36mWebDriver.execute\u001b[1;34m(self, driver_command, params)\u001b[0m\n\u001b[0;32m    346\u001b[0m response \u001b[39m=\u001b[39m \u001b[39mself\u001b[39m\u001b[39m.\u001b[39mcommand_executor\u001b[39m.\u001b[39mexecute(driver_command, params)\n\u001b[0;32m    347\u001b[0m \u001b[39mif\u001b[39;00m response:\n\u001b[1;32m--> 348\u001b[0m     \u001b[39mself\u001b[39;49m\u001b[39m.\u001b[39;49merror_handler\u001b[39m.\u001b[39;49mcheck_response(response)\n\u001b[0;32m    349\u001b[0m     response[\u001b[39m\"\u001b[39m\u001b[39mvalue\u001b[39m\u001b[39m\"\u001b[39m] \u001b[39m=\u001b[39m \u001b[39mself\u001b[39m\u001b[39m.\u001b[39m_unwrap_value(response\u001b[39m.\u001b[39mget(\u001b[39m\"\u001b[39m\u001b[39mvalue\u001b[39m\u001b[39m\"\u001b[39m, \u001b[39mNone\u001b[39;00m))\n\u001b[0;32m    350\u001b[0m     \u001b[39mreturn\u001b[39;00m response\n",
      "File \u001b[1;32mc:\\Users\\delli\\AppData\\Local\\Programs\\Python\\Python311\\Lib\\site-packages\\selenium\\webdriver\\remote\\errorhandler.py:229\u001b[0m, in \u001b[0;36mErrorHandler.check_response\u001b[1;34m(self, response)\u001b[0m\n\u001b[0;32m    227\u001b[0m         alert_text \u001b[39m=\u001b[39m value[\u001b[39m\"\u001b[39m\u001b[39malert\u001b[39m\u001b[39m\"\u001b[39m]\u001b[39m.\u001b[39mget(\u001b[39m\"\u001b[39m\u001b[39mtext\u001b[39m\u001b[39m\"\u001b[39m)\n\u001b[0;32m    228\u001b[0m     \u001b[39mraise\u001b[39;00m exception_class(message, screen, stacktrace, alert_text)  \u001b[39m# type: ignore[call-arg]  # mypy is not smart enough here\u001b[39;00m\n\u001b[1;32m--> 229\u001b[0m \u001b[39mraise\u001b[39;00m exception_class(message, screen, stacktrace)\n",
      "\u001b[1;31mStaleElementReferenceException\u001b[0m: Message: stale element reference: stale element not found\n  (Session info: chrome=120.0.6099.130); For documentation on this error, please visit: https://www.selenium.dev/documentation/webdriver/troubleshooting/errors#stale-element-reference-exception\nStacktrace:\n\tGetHandleVerifier [0x00007FF761DB2142+3514994]\n\t(No symbol) [0x00007FF7619D0CE2]\n\t(No symbol) [0x00007FF7618776AA]\n\t(No symbol) [0x00007FF76187CFC0]\n\t(No symbol) [0x00007FF76187F38F]\n\t(No symbol) [0x00007FF76187F480]\n\t(No symbol) [0x00007FF7618BBB0E]\n\t(No symbol) [0x00007FF7618E5FEA]\n\t(No symbol) [0x00007FF7618B63B6]\n\t(No symbol) [0x00007FF7618E6490]\n\t(No symbol) [0x00007FF7619028F6]\n\t(No symbol) [0x00007FF7618E5D93]\n\t(No symbol) [0x00007FF7618B4BDC]\n\t(No symbol) [0x00007FF7618B5C64]\n\tGetHandleVerifier [0x00007FF761DDE16B+3695259]\n\tGetHandleVerifier [0x00007FF761E36737+4057191]\n\tGetHandleVerifier [0x00007FF761E2E4E3+4023827]\n\tGetHandleVerifier [0x00007FF761B004F9+689705]\n\t(No symbol) [0x00007FF7619DC048]\n\t(No symbol) [0x00007FF7619D8044]\n\t(No symbol) [0x00007FF7619D81C9]\n\t(No symbol) [0x00007FF7619C88C4]\n\tBaseThreadInitThunk [0x00007FF9B0D67344+20]\n\tRtlUserThreadStart [0x00007FF9B13026B1+33]\n"
     ]
    }
   ],
   "source": [
    "from game_handler import ChessBoardHandler\n",
    "from engine import chessEngine\n",
    "\n",
    "color = wh.get_color()\n",
    "game = ChessBoardHandler(color)\n",
    "engine = chessEngine()\n",
    "print(color)\n",
    "while True:\n",
    "    move_lists=wh.get_current_position()\n",
    "    move_str = \" \".join(move_lists)\n",
    "    game.update_board(move_str)\n",
    "    board = game.get_board()\n",
    "    if game.ismyturn():\n",
    "        start_time = time.time()\n",
    "        print(move_str)\n",
    "        best_move, best_score = engine.search_best_move(board, 3, is_maximizing=color==\"white\")\n",
    "        print(\"Time taken to get best move: \", time.time() - start_time)\n",
    "        print(\"Moving: \", best_move, \"Evaluation: \", best_score)\n",
    "        wh.make_move(best_move.uci(), color)\n"
   ]
  },
  {
   "cell_type": "code",
   "execution_count": null,
   "metadata": {},
   "outputs": [],
   "source": [
    "\n",
    "\n",
    "\n"
   ]
  }
 ],
 "metadata": {
  "kernelspec": {
   "display_name": "Python 3",
   "language": "python",
   "name": "python3"
  },
  "language_info": {
   "codemirror_mode": {
    "name": "ipython",
    "version": 3
   },
   "file_extension": ".py",
   "mimetype": "text/x-python",
   "name": "python",
   "nbconvert_exporter": "python",
   "pygments_lexer": "ipython3",
   "version": "3.11.1"
  },
  "orig_nbformat": 4,
  "vscode": {
   "interpreter": {
    "hash": "9ec6b8c25da5ecb150af55b46e0e070f4eedaa0a04d4e20f07e0fbc9d7f53f7d"
   }
  }
 },
 "nbformat": 4,
 "nbformat_minor": 2
}
