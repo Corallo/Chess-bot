{
 "cells": [
  {
   "cell_type": "code",
   "execution_count": null,
   "metadata": {},
   "outputs": [],
   "source": [
    "import sys\n",
    "sys.dont_write_bytecode = True"
   ]
  },
  {
   "cell_type": "code",
   "execution_count": null,
   "metadata": {},
   "outputs": [],
   "source": [
    "from web_scrapper import ChessWebHandler\n",
    "import time"
   ]
  },
  {
   "cell_type": "code",
   "execution_count": null,
   "metadata": {},
   "outputs": [],
   "source": [
    "print(\"Testing WebScrapper class\")\n",
    "wh = ChessWebHandler()\n",
    "wh.open_page()\n",
    "time.sleep(3)\n",
    "wh.login()"
   ]
  },
  {
   "cell_type": "code",
   "execution_count": null,
   "metadata": {},
   "outputs": [],
   "source": [
    "from game_handler import ChessBoardHandler\n",
    "from engine import chessEngine\n",
    "\n",
    "game = ChessBoardHandler(\"white\")\n",
    "engine = chessEngine()\n",
    "while True:\n",
    "    move_lists=wh.get_current_position()\n",
    "    move_str = \" \".join(move_lists)\n",
    "    game.update_board(move_str)\n",
    "    if game.ismyturn():\n",
    "        start_time = time.time()\n",
    "        best_move, best_score = engine.search_best_move(move_str, 3)\n",
    "        print(\"Time taken to get best move: \", time.time() - start_time)\n",
    "        print(\"Moving: \", best_move, \"Evaluation: \", best_score)\n",
    "        wh.make_move(best_move.uci())\n"
   ]
  }
 ],
 "metadata": {
  "kernelspec": {
   "display_name": "Python 3",
   "language": "python",
   "name": "python3"
  },
  "language_info": {
   "codemirror_mode": {
    "name": "ipython",
    "version": 3
   },
   "file_extension": ".py",
   "mimetype": "text/x-python",
   "name": "python",
   "nbconvert_exporter": "python",
   "pygments_lexer": "ipython3",
   "version": "3.11.1"
  },
  "orig_nbformat": 4,
  "vscode": {
   "interpreter": {
    "hash": "9ec6b8c25da5ecb150af55b46e0e070f4eedaa0a04d4e20f07e0fbc9d7f53f7d"
   }
  }
 },
 "nbformat": 4,
 "nbformat_minor": 2
}
